{
 "cells": [
  {
   "cell_type": "markdown",
   "metadata": {},
   "source": [
    "# Analysis and Prediction on the Coronavirus (Italy)\n",
    "\n",
    "### by Vansh Jatana"
   ]
  },
  {
   "cell_type": "markdown",
   "metadata": {},
   "source": [
    "> ## Related Work\n",
    "*  For Analysis and Prediction on the Coronavirus (Iran), click [here](https://www.kaggle.com/vanshjatana/analysis-and-prediction-on-coronavirus-iran)\n",
    "*  For Analysis and Prediction on the Coronavirus (South Korea), click [here](https://www.kaggle.com/vanshjatana/analysis-on-coronavirus)\n",
    "*  For Machine Learning on the Coronavirus, click [here](https://www.kaggle.com/vanshjatana/machine-learning-on-coronavirus)\n",
    "*  For a report on the Coronavirus, click [here](https://www.researchgate.net/publication/339738108_Analysis_On_Coronavirus)"
   ]
  },
  {
   "cell_type": "markdown",
   "metadata": {},
   "source": [
    "## Current Scenario\n",
    "\n",
    "At the time of this writing, there are 9,172 confirmed cases according to the WHO. Italy is a member state of the European Union and is a popular tourist destination. Italy's first case was confirmed on January 30th, when two infected Chinese tourists were found. Italy is the most infected country in Europe and second most affected region after China. Many Italian visitors were confirmed as being infected with Coronavirus after visiting other countries. Many countries, including Asia, America, and Europe, trace their local cases to Italy. In the very beginning of the outbreak, only the northern area of Italy was affected; but after a very short time, it had spread to all of Italy."
   ]
  },
  {
   "cell_type": "markdown",
   "metadata": {},
   "source": [
    "## Libraries"
   ]
  },
  {
   "cell_type": "code",
   "execution_count": null,
   "metadata": {
    "_cell_guid": "b1076dfc-b9ad-4769-8c92-a6c4dae69d19",
    "_uuid": "8f2839f25d086af736a60e9eeb907d3b93b6e0e5",
    "collapsed": true
   },
   "outputs": [],
   "source": [
    "# Install a pip package in the current Jupyter kernel\n",
    "import sys\n",
    "!{sys.executable} -m pip install numpy\n",
    "!{sys.executable} -m pip install pandas\n",
    "!{sys.executable} -m pip install seaborn\n",
    "!{sys.executable} -m pip install plotly\n",
    "!{sys.executable} -m pip install sklearn\n",
    "!{sys.executable} -m pip install fbprophet\n",
    "!{sys.executable} -m pip install statsmodels\n",
    "!{sys.executable} -m pip install keras\n",
    "!{sys.executable} -m pip install tensorflow\n",
    "import numpy as np\n",
    "import pandas as pd \n",
    "import seaborn as sns\n",
    "import matplotlib.pyplot as plt\n",
    "import matplotlib.dates as mdates\n",
    "import plotly.express as px\n",
    "import datetime\n",
    "from datetime import date, timedelta\n",
    "from sklearn.cluster import KMeans\n",
    "from fbprophet import Prophet\n",
    "from fbprophet.plot import plot_plotly, add_changepoints_to_plot\n",
    "import plotly.offline as py\n",
    "from statsmodels.tsa.arima_model import ARIMA\n",
    "from statsmodels.graphics.tsaplots import plot_acf, plot_pacf\n",
    "import statsmodels.api as sm\n",
    "from keras.models import Sequential\n",
    "from keras.layers import LSTM,Dense\n",
    "from keras.layers import Dropout\n",
    "from sklearn.preprocessing import MinMaxScaler\n",
    "from tensorflow.keras.preprocessing.sequence import TimeseriesGenerator"
   ]
  },
  {
   "cell_type": "markdown",
   "metadata": {},
   "source": [
    "## Reading Data"
   ]
  },
  {
   "cell_type": "code",
   "execution_count": null,
   "metadata": {
    "_cell_guid": "79c7e3d0-c299-4dcb-8224-4455121ee9b0",
    "_uuid": "d629ff2d2480ee46fbb7e2d37f6b5fab8052498a",
    "collapsed": true
   },
   "outputs": [],
   "source": [
    "data=pd.read_csv(\"../input/covid19-in-total/covid19_italy_region.csv\")"
   ]
  },
  {
   "cell_type": "code",
   "execution_count": null,
   "metadata": {
    "collapsed": true
   },
   "outputs": [],
   "source": [
    "an_data = pd.read_csv(\"../input/novel-corona-virus-2019-dataset/COVID19_open_line_list.csv\")"
   ]
  },
  {
   "cell_type": "markdown",
   "metadata": {},
   "source": [
    "## Looking into the Data"
   ]
  },
  {
   "cell_type": "code",
   "execution_count": null,
   "metadata": {
    "collapsed": true
   },
   "outputs": [],
   "source": [
    "an_data.head()"
   ]
  },
  {
   "cell_type": "code",
   "execution_count": null,
   "metadata": {
    "collapsed": true
   },
   "outputs": [],
   "source": [
    "an_data = an_data[an_data['country']=='Italy']\n",
    "an_data.shape\n"
   ]
  },
  {
   "cell_type": "markdown",
   "metadata": {},
   "source": [
    "## Age Distribution of Confirmation"
   ]
  },
  {
   "cell_type": "code",
   "execution_count": null,
   "metadata": {
    "collapsed": true
   },
   "outputs": [],
   "source": [
    "plt.figure(figsize=(10,6))\n",
    "sns.set_style(\"darkgrid\")\n",
    "plt.title(\"Age distribution of Confirmation\")\n",
    "sns.kdeplot(data=an_data['age'], shade=True).set(xlim=(0))"
   ]
  },
  {
   "cell_type": "markdown",
   "metadata": {},
   "source": [
    "## Age\n",
    "\n",
    "Here, the graph shows the age distribution of infected people by gender. We can clearly see that older people are more likely to become infected, especially older people that have lung disease or respiratory system problems. Men in the 40 to 50 year age group are more likely to be infected. In comparison, women aged 50 to 70 years are more likely to be infected. As Dr. Steven Gambert, professor of medicine and director of geriatrics at the University of Maryland School of Medicine says, \"Older people have higher risk of underlying health conditions; older people are already under physical stress, and their immune systems, even if not significantly compromised, simply do not have the same ability to fight viruses and bacteria.” Data shows that Italy has the oldest population across the globe, by count. According to EU statistics, Italy has the lowest percentage of young people."
   ]
  },
  {
   "cell_type": "markdown",
   "metadata": {},
   "source": [
    "## Gender Distribution of Confirmation"
   ]
  },
  {
   "cell_type": "code",
   "execution_count": null,
   "metadata": {
    "collapsed": true
   },
   "outputs": [],
   "source": [
    "plt.figure(figsize=(15, 5))\n",
    "plt.title('Gender')\n",
    "an_data.sex.value_counts().plot.bar();"
   ]
  },
  {
   "cell_type": "code",
   "execution_count": null,
   "metadata": {
    "collapsed": true,
    "scrolled": true
   },
   "outputs": [],
   "source": [
    "fig = px.pie( values=an_data.groupby(['sex']).size().values,names=an_data.groupby(['sex']).size().index)\n",
    "fig.update_layout(\n",
    "    font=dict(\n",
    "        size=15,\n",
    "        color=\"#242323\"\n",
    "    )\n",
    "    )   \n",
    "    \n",
    "py.iplot(fig)"
   ]
  },
  {
   "cell_type": "markdown",
   "metadata": {},
   "source": [
    "## Gender\n",
    "\n",
    "The graph shows the age distribution of infected and confirmed people by gender, where men are more likely to die from coronavirus than women. Research has found that middle-aged and older men are more likely to get infected by the virus. Researchers found that the infection rate among men and women is the same, but the death rate among men is 2.8% as compared to 1.7% for women. Some of the factors thought to explain why men are more likely to die from the coronavirus include:\n",
    "\n",
    "* Men lack the heightened immunity system found in women\n",
    "* In China, 50%-80% of men smoke, compared to only 2%-3% of women"
   ]
  },
  {
   "cell_type": "markdown",
   "metadata": {},
   "source": [
    "## Age Distribution of Confirmation by Gender"
   ]
  },
  {
   "cell_type": "code",
   "execution_count": null,
   "metadata": {
    "collapsed": true
   },
   "outputs": [],
   "source": [
    "male_dead = an_data[an_data.sex=='male']\n",
    "female_dead = an_data[an_data.sex=='female']"
   ]
  },
  {
   "cell_type": "code",
   "execution_count": null,
   "metadata": {
    "collapsed": true
   },
   "outputs": [],
   "source": [
    "plt.figure(figsize=(10,6))\n",
    "sns.set_style(\"darkgrid\")\n",
    "plt.title(\"Age distribution of the confirmation by gender\")\n",
    "sns.kdeplot(data=female_dead['age'], label=\"Women\", shade=True).set(xlim=(0))\n",
    "sns.kdeplot(data=male_dead['age'],label=\"Male\" ,shade=True).set(xlim=(0))\n"
   ]
  },
  {
   "cell_type": "code",
   "execution_count": null,
   "metadata": {
    "collapsed": true
   },
   "outputs": [],
   "source": [
    "data.head()"
   ]
  },
  {
   "cell_type": "markdown",
   "metadata": {},
   "source": [
    "## Checking for Null Values"
   ]
  },
  {
   "cell_type": "code",
   "execution_count": null,
   "metadata": {
    "collapsed": true
   },
   "outputs": [],
   "source": [
    "data.isna().sum()"
   ]
  },
  {
   "cell_type": "markdown",
   "metadata": {},
   "source": [
    "## Description of the Data"
   ]
  },
  {
   "cell_type": "code",
   "execution_count": null,
   "metadata": {
    "collapsed": true
   },
   "outputs": [],
   "source": [
    "data.describe().T"
   ]
  },
  {
   "cell_type": "markdown",
   "metadata": {},
   "source": [
    "## Tracking the Patient"
   ]
  },
  {
   "cell_type": "code",
   "execution_count": null,
   "metadata": {
    "collapsed": true
   },
   "outputs": [],
   "source": [
    "data.shape"
   ]
  },
  {
   "cell_type": "code",
   "execution_count": null,
   "metadata": {
    "collapsed": true
   },
   "outputs": [],
   "source": [
    "clus=data.loc[:,['SNo','Latitude','Longitude']]\n",
    "clus.head()"
   ]
  },
  {
   "cell_type": "markdown",
   "metadata": {},
   "source": [
    "## Checking for Number of Cluster"
   ]
  },
  {
   "cell_type": "code",
   "execution_count": null,
   "metadata": {
    "collapsed": true
   },
   "outputs": [],
   "source": [
    "K_clusters = range(1,15)\n",
    "kmeans = [KMeans(n_clusters=i) for i in K_clusters]\n",
    "Y_axis = data[['Latitude']]\n",
    "X_axis = data[['Longitude']]\n",
    "score = [kmeans[i].fit(Y_axis).score(Y_axis) for i in range(len(kmeans))]\n",
    "plt.plot(K_clusters, score)\n",
    "plt.xlabel('Number of Clusters')\n",
    "plt.ylabel('Score')\n",
    "plt.title('Score vs Cluster')\n",
    "plt.show()"
   ]
  },
  {
   "cell_type": "markdown",
   "metadata": {},
   "source": [
    "**The score becomes constant after four clusters, so making more clusters will not help us. The value for k is 4 in this case.**"
   ]
  },
  {
   "cell_type": "code",
   "execution_count": null,
   "metadata": {
    "collapsed": true
   },
   "outputs": [],
   "source": [
    "kmeans = KMeans(n_clusters = 4, init ='k-means++')\n",
    "kmeans.fit(clus[clus.columns[1:3]])\n",
    "clus['cluster_label'] = kmeans.fit_predict(clus[clus.columns[1:3]])\n",
    "centers = kmeans.cluster_centers_\n",
    "labels = kmeans.predict(clus[clus.columns[1:3]])"
   ]
  },
  {
   "cell_type": "markdown",
   "metadata": {},
   "source": [
    "## Graphical Representation of Clusters"
   ]
  },
  {
   "cell_type": "code",
   "execution_count": null,
   "metadata": {
    "collapsed": true
   },
   "outputs": [],
   "source": [
    "clus.plot.scatter(x = 'Latitude', y = 'Longitude', c=labels, s=50, cmap='viridis')\n",
    "plt.scatter(centers[:, 0], centers[:, 1], c='black', s=100, alpha=0.5)"
   ]
  },
  {
   "cell_type": "markdown",
   "metadata": {},
   "source": [
    "**We will verify our clusters by putting values onto a world map generated through use of the folium library.**"
   ]
  },
  {
   "cell_type": "markdown",
   "metadata": {},
   "source": [
    "**Affected places shown on the world map include Hospitalised, Confirm, Deaths, and Recovery.**"
   ]
  },
  {
   "cell_type": "code",
   "execution_count": null,
   "metadata": {
    "collapsed": true
   },
   "outputs": [],
   "source": [
    "!{sys.executable} -m pip install folium\n",
    "import folium\n",
    "italy_map = folium.Map(location=[42.8719,12.5674 ], zoom_start=5,tiles='Stamen Toner')\n",
    "\n",
    "for lat, lon,RegionName,TotalPositiveCases,Recovered,Deaths,TotalHospitalizedPatients in zip(data['Latitude'], data['Longitude'],data['RegionName'],data['TotalPositiveCases'],data['Recovered'],data['Deaths'],data['TotalHospitalizedPatients']):\n",
    "    folium.CircleMarker([lat, lon],\n",
    "                        radius=5,\n",
    "                        color='red',\n",
    "                      popup =('RegionName: ' + str(RegionName) + '<br>'\n",
    "                    'TotalPositiveCases: ' + str(TotalPositiveCases) + '<br>'\n",
    "                    'TotalHospitalizedPatients: ' + str(TotalHospitalizedPatients) + '<br>'\n",
    "                      'Recovered: ' + str(Recovered) + '<br>'\n",
    "                      'Deaths: ' + str(Deaths) + '<br>'),\n",
    "\n",
    "                        fill_color='red',\n",
    "                        fill_opacity=0.7 ).add_to(italy_map)\n",
    "italy_map"
   ]
  },
  {
   "cell_type": "markdown",
   "metadata": {},
   "source": [
    "**Early on, the most severely affected cities and regions in Italy were Lombardy and then Emilia-Romagna, Veneto, Marche, and Piemonte. Milan is the second most populous Italian city and is located in Lombardy. Other areas in Italy that are affected by coronavirus include Toscana, Campania, Lazio, Liguria, Friuli Venezia Giulia, Sicilia, Puglia, Umbria, Abruzzo, Trento, Molise, Calabria, Sardegna, Valle d’Aosta, Basilicata, and Bolzano. Italy was the fourth most affected country as of February, but now it has the highest number of confirmed cases after China.**"
   ]
  },
  {
   "cell_type": "markdown",
   "metadata": {},
   "source": [
    "## Grouping Data According to Region Name"
   ]
  },
  {
   "cell_type": "code",
   "execution_count": null,
   "metadata": {
    "collapsed": true
   },
   "outputs": [],
   "source": [
    "data['Date'] = pd.to_datetime(data['Date']).dt.normalize()\n",
    "daily = data.sort_values(['Date','Country','RegionName'])\n",
    "latest = data[data.Date == daily.Date.max()]\n",
    "latest.head()"
   ]
  },
  {
   "cell_type": "code",
   "execution_count": null,
   "metadata": {
    "collapsed": true
   },
   "outputs": [],
   "source": [
    "data_groupby_region = latest.groupby(\"RegionName\")[['TotalPositiveCases', 'Deaths', 'Recovered','TestsPerformed','HospitalizedPatients','TotalHospitalizedPatients']].sum().reset_index()\n",
    "dgr = data_groupby_region \n",
    "dgr.head()"
   ]
  },
  {
   "cell_type": "markdown",
   "metadata": {},
   "source": [
    "## Description of Grouped Data by Region"
   ]
  },
  {
   "cell_type": "code",
   "execution_count": null,
   "metadata": {
    "collapsed": true
   },
   "outputs": [],
   "source": [
    "dgr.describe().T"
   ]
  },
  {
   "cell_type": "markdown",
   "metadata": {},
   "source": [
    "## Test Performed vs Region"
   ]
  },
  {
   "cell_type": "code",
   "execution_count": null,
   "metadata": {
    "collapsed": true
   },
   "outputs": [],
   "source": [
    "fig = px.bar(dgr[['RegionName', 'TestsPerformed']].sort_values('TestsPerformed', ascending=False), \n",
    "             y=\"TestsPerformed\", x=\"RegionName\", color='RegionName', \n",
    "             log_y=True, template='ggplot2', title='Test Performed vs Region')\n",
    "fig.show()\n"
   ]
  },
  {
   "cell_type": "markdown",
   "metadata": {},
   "source": [
    "**As the graph shows, the test was performed in different regions of Italy. Lombardia shows the maximum number of tests performed (over 25,000), as cities are most highly affected. As a result, the next graph shows that the region also has the highest number of positive coronavirus patients (7,280). Veneto is the second most infected city, followed by Emilia Romagna, Lazio, Marche, Toscana, Piemonte, Friuli V.G., Campania, Sicilia, Liguria, Puglia, P.A. Trento, Calabria, Umbria, Abruzzo, Sardegna, Molisa, Basilicata, Valle d'Aosta, P.A. Bolzano, etc.**"
   ]
  },
  {
   "cell_type": "markdown",
   "metadata": {},
   "source": [
    "## Confirmed Cases vs Region"
   ]
  },
  {
   "cell_type": "code",
   "execution_count": null,
   "metadata": {
    "collapsed": true
   },
   "outputs": [],
   "source": [
    "fig = px.bar(dgr[['RegionName', 'TotalPositiveCases']].sort_values('TotalPositiveCases', ascending=False), \n",
    "             y=\"TotalPositiveCases\", x=\"RegionName\", color='RegionName', \n",
    "             log_y=True, template='ggplot2', title='Confirmed Cases vs Region')\n",
    "fig.show()\n"
   ]
  },
  {
   "cell_type": "markdown",
   "metadata": {},
   "source": [
    "**There are more than 10,000 people who are infected with this virus. Italy is the most affected country in the world after China, with 827 deaths and 12,462 confirmed cases in almost three weeks. The government has restricted all flights from China because, at the end of January, two Chinese tourists came down with coronavirus during a trip to Italy. At the time, it was hoped to be the best measure to block the spread of the disease.**"
   ]
  },
  {
   "cell_type": "markdown",
   "metadata": {},
   "source": [
    "## Hospitalized Patients vs Region"
   ]
  },
  {
   "cell_type": "code",
   "execution_count": null,
   "metadata": {
    "collapsed": true
   },
   "outputs": [],
   "source": [
    "fig = px.bar(dgr[['RegionName', 'TotalHospitalizedPatients']].sort_values('TotalHospitalizedPatients', ascending=False), \n",
    "             y=\"TotalHospitalizedPatients\", x=\"RegionName\", color='RegionName', \n",
    "             log_y=True, template='ggplot2', title='Hospitalised Patient vs Region')\n",
    "fig.show()"
   ]
  },
  {
   "cell_type": "markdown",
   "metadata": {},
   "source": [
    "## Recovery vs Region"
   ]
  },
  {
   "cell_type": "code",
   "execution_count": null,
   "metadata": {
    "collapsed": true
   },
   "outputs": [],
   "source": [
    "fig = px.bar(dgr[['RegionName', 'Recovered']].sort_values('Recovered', ascending=False), \n",
    "             y=\"Recovered\", x=\"RegionName\", color='RegionName', \n",
    "             log_y=True, template='ggplot2', title='Revovery vs Region')\n",
    "fig.show()\n"
   ]
  },
  {
   "cell_type": "markdown",
   "metadata": {},
   "source": [
    "## Death vs Region Name"
   ]
  },
  {
   "cell_type": "code",
   "execution_count": null,
   "metadata": {
    "collapsed": true
   },
   "outputs": [],
   "source": [
    "fig = px.bar(dgr[['RegionName', 'Deaths']].sort_values('Deaths', ascending=False), \n",
    "             y=\"Deaths\", x=\"RegionName\", color='RegionName', \n",
    "             log_y=True, template='ggplot2', title='Death vs Region')\n",
    "fig.show()\n"
   ]
  },
  {
   "cell_type": "code",
   "execution_count": null,
   "metadata": {
    "collapsed": true
   },
   "outputs": [],
   "source": [
    "dgrs_el = dgr.sort_values(by=['TotalPositiveCases'],ascending = False)\n",
    "dgrs_el.head()"
   ]
  },
  {
   "cell_type": "markdown",
   "metadata": {},
   "source": [
    "## Test and Confirm vs Region"
   ]
  },
  {
   "cell_type": "code",
   "execution_count": null,
   "metadata": {
    "collapsed": true
   },
   "outputs": [],
   "source": [
    "plt.figure(figsize=(23,10))\n",
    "plt.bar(dgrs_el.RegionName, dgrs_el.TestsPerformed,label=\"Tests Performed\")\n",
    "plt.bar(dgrs_el.RegionName, dgrs_el.TotalPositiveCases,label=\"Confirm Cases\")\n",
    "plt.xlabel('Region')\n",
    "plt.ylabel(\"Count\")\n",
    "plt.legend(frameon=True, fontsize=12)\n",
    "plt.title('Test and Confirm vs Region',fontsize = 35)\n",
    "\n",
    "plt.show()\n",
    "\n",
    "f, ax = plt.subplots(figsize=(80,30))\n",
    "ax=sns.scatterplot(x=\"RegionName\", y=\"TestsPerformed\", data=dgrs_el,\n",
    "             color=\"red\",label = \"Tests Performed\")\n",
    "ax=sns.scatterplot(x=\"RegionName\", y=\"TotalPositiveCases\", data=dgrs_el,\n",
    "             color=\"blue\",label = \"Confirm Cases\")\n",
    "ax.xaxis.set_tick_params(labelsize=35)\n",
    "\n",
    "plt.plot(dgrs_el.RegionName,dgrs_el.TestsPerformed,zorder=1,color=\"red\")\n",
    "plt.plot(dgrs_el.RegionName,dgrs_el.TotalPositiveCases,zorder=1,color=\"blue\")"
   ]
  },
  {
   "cell_type": "markdown",
   "metadata": {},
   "source": [
    "## Confirmed Cases vs People Hospitalized"
   ]
  },
  {
   "cell_type": "code",
   "execution_count": null,
   "metadata": {
    "collapsed": true
   },
   "outputs": [],
   "source": [
    "plt.figure(figsize=(23,10))\n",
    "plt.bar(dgrs_el.RegionName, dgrs_el.TotalPositiveCases,label=\"Confirm Cases\")\n",
    "plt.bar(dgrs_el.RegionName, dgrs_el.TotalHospitalizedPatients,label=\"Hospitalized Patients\")\n",
    "\n",
    "plt.xlabel('Region')\n",
    "plt.ylabel(\"Count\")\n",
    "plt.legend(frameon=True, fontsize=12)\n",
    "plt.title('Confirm Cases vs People Hospitalised',fontsize= 35)\n",
    "plt.show()\n",
    "\n",
    "f, ax = plt.subplots(figsize=(40,20))\n",
    "\n",
    "ax=sns.scatterplot(x=\"RegionName\", y=\"TotalPositiveCases\", data=dgrs_el,\n",
    "             color=\"blue\",label = \"Confirm Cases\")\n",
    "ax=sns.scatterplot(x=\"RegionName\", y=\"TotalHospitalizedPatients\", data=dgrs_el,\n",
    "             color=\"red\",label = \"Hospitalized Patients\")\n",
    "ax.xaxis.set_tick_params(labelsize=18)\n",
    "plt.plot(dgrs_el.RegionName,dgrs_el.TotalPositiveCases,zorder=1,color=\"blue\")\n",
    "plt.plot(dgrs_el.RegionName,dgrs_el.TotalHospitalizedPatients,zorder=1,color=\"red\")\n"
   ]
  },
  {
   "cell_type": "markdown",
   "metadata": {},
   "source": [
    "**The graph shows statistical data direct from the WHO. The data shows that in Lombardia, after more than 7,000 confirmed cases, there are only approximately 4,500 people who are hospitalized. This has become a crisis situation in Italy. Hospital conditions are becoming worse day by day. According to the doctors, not every patient is getting proper and equal care, and that is the main cause of multifold spread of coronavirus. The whole country is locked down. Government has announced there will be no gatherings, no sporting events, and no travelling across the country because of the high number of deaths.**"
   ]
  },
  {
   "cell_type": "markdown",
   "metadata": {},
   "source": [
    "## Death and Recovery vs Region"
   ]
  },
  {
   "cell_type": "code",
   "execution_count": null,
   "metadata": {
    "collapsed": true
   },
   "outputs": [],
   "source": [
    "plt.figure(figsize=(23,10))\n",
    "plt.bar(dgrs_el.RegionName, dgrs_el.Recovered,label=\"Recovery\")\n",
    "plt.bar(dgrs_el.RegionName, dgrs_el.Deaths,label=\"Death\")\n",
    "plt.xlabel('Region')\n",
    "plt.ylabel(\"Count\")\n",
    "plt.legend(frameon=True, fontsize=12)\n",
    "plt.title('Death and Recovery vs Region', fontsize= 35)\n",
    "plt.show()\n",
    "\n",
    "f, ax = plt.subplots(figsize=(23,10))\n",
    "ax=sns.scatterplot(x=\"RegionName\", y=\"Recovered\", data=dgrs_el,\n",
    "             color=\"red\",label = \"Recovered\")\n",
    "ax=sns.scatterplot(x=\"RegionName\", y=\"Deaths\", data=dgrs_el,\n",
    "             color=\"blue\",label = \"Deaths\")\n",
    "plt.plot(dgrs_el.RegionName,dgrs_el.Recovered,zorder=1,color=\"red\")\n",
    "plt.plot(dgrs_el.RegionName,dgrs_el.Deaths,zorder=1,color=\"blue\")"
   ]
  },
  {
   "cell_type": "markdown",
   "metadata": {},
   "source": [
    "**According to the graph, the recovery rate of the patients is very slow. There are a few common reasons behind the rapid increase in the number of people infected by the coronavirus. According to the data, the number of hospitalized people is far fewer than the number of people infected by the novel coronavirus. Cases have now been confirmed in every member nation of the European Union. Italy will remain totally locked down as its healthcare system struggles to cope. Nearby countries like Germany and France report alarming spikes in daily cases.**"
   ]
  },
  {
   "cell_type": "code",
   "execution_count": null,
   "metadata": {
    "collapsed": true
   },
   "outputs": [],
   "source": [
    "data['Date'] = pd.to_datetime(data['Date']).dt.normalize()\n",
    "latest = data[data.Date == daily.Date.max()]"
   ]
  },
  {
   "cell_type": "code",
   "execution_count": null,
   "metadata": {
    "collapsed": true
   },
   "outputs": [],
   "source": [
    "temp = latest.loc[:,['Date','HospitalizedPatients','IntensiveCarePatients','TotalHospitalizedPatients','HomeConfinement','Recovered','Deaths','TotalPositiveCases','TestsPerformed']]\n",
    "temp.head()"
   ]
  },
  {
   "cell_type": "markdown",
   "metadata": {},
   "source": [
    "## Description of data Grouped by Date"
   ]
  },
  {
   "cell_type": "code",
   "execution_count": null,
   "metadata": {
    "collapsed": true
   },
   "outputs": [],
   "source": [
    "temp.describe().T"
   ]
  },
  {
   "cell_type": "code",
   "execution_count": null,
   "metadata": {
    "collapsed": true
   },
   "outputs": [],
   "source": [
    "data_groupby_date = latest.groupby(\"Date\")[['Date','HospitalizedPatients','IntensiveCarePatients','TotalHospitalizedPatients','HomeConfinement','Recovered','Deaths','TotalPositiveCases','TestsPerformed']].sum().reset_index()\n",
    "data_groupby_date"
   ]
  },
  {
   "cell_type": "markdown",
   "metadata": {},
   "source": [
    "## Ratio and percentage of Confirmation, Deaths and Deaths, Recovery after Confirmation"
   ]
  },
  {
   "cell_type": "code",
   "execution_count": null,
   "metadata": {
    "collapsed": true
   },
   "outputs": [],
   "source": [
    "ps_ts = float(data_groupby_date.TotalPositiveCases/data_groupby_date.TestsPerformed)\n",
    "d_ts = float(data_groupby_date.Deaths/data_groupby_date.TestsPerformed)\n",
    "r_ps = float(data_groupby_date.Recovered/data_groupby_date.TotalPositiveCases)\n",
    "d_ps = float(data_groupby_date.Deaths/data_groupby_date.TotalPositiveCases)"
   ]
  },
  {
   "cell_type": "code",
   "execution_count": null,
   "metadata": {
    "collapsed": true
   },
   "outputs": [],
   "source": [
    "print(\"The percentage of Confirmation is \"+ str(ps_ts*100) )\n",
    "print(\"The percentage of Death is \"+ str(d_ts*100) )\n",
    "print(\"The percentage of Death after confirmation is \"+ str(d_ps*100) )\n",
    "print(\"The percentage of recovery after confirmation is \"+ str(r_ps*100) )"
   ]
  },
  {
   "cell_type": "code",
   "execution_count": null,
   "metadata": {
    "collapsed": true
   },
   "outputs": [],
   "source": [
    "data_groupby_date1 = data.groupby(\"Date\")[['TotalPositiveCases', 'Deaths', 'Recovered','TestsPerformed','HospitalizedPatients','TotalHospitalizedPatients']].sum().reset_index()\n",
    "dgd3 = data_groupby_date1\n",
    "dgd3.head()"
   ]
  },
  {
   "cell_type": "code",
   "execution_count": null,
   "metadata": {
    "collapsed": true
   },
   "outputs": [],
   "source": [
    "dgd2 = dgd3"
   ]
  },
  {
   "cell_type": "code",
   "execution_count": null,
   "metadata": {
    "collapsed": true
   },
   "outputs": [],
   "source": [
    "dgd2[\"Date\"]= dgd3[\"Date\"].dt.strftime(\"%d-%m-%y\") \n",
    "dgd2.head()"
   ]
  },
  {
   "cell_type": "markdown",
   "metadata": {},
   "source": [
    "## Test vs Confirmed\n"
   ]
  },
  {
   "cell_type": "code",
   "execution_count": null,
   "metadata": {
    "collapsed": true
   },
   "outputs": [],
   "source": [
    "plt.figure(figsize=(23,10))\n",
    "plt.bar(dgd2.Date, dgd2.TestsPerformed,label=\"Tests Performed\")\n",
    "plt.bar(dgd2.Date, dgd2.TotalPositiveCases,label=\"Confirm Cases\")\n",
    "plt.xlabel('Date')\n",
    "plt.ylabel(\"Count\")\n",
    "plt.legend(frameon=True, fontsize=12)\n",
    "plt.title('Test Peroformed vs Confirmed Cases',fontsize = 35)\n",
    "plt.show()\n",
    "\n",
    "f, ax = plt.subplots(figsize=(23,10))\n",
    "ax=sns.scatterplot(x=\"Date\", y=\"TestsPerformed\", data=dgd2,\n",
    "             color=\"red\",label = \"Tests Performed\")\n",
    "ax=sns.scatterplot(x=\"Date\", y=\"TotalPositiveCases\", data=dgd2,\n",
    "             color=\"blue\",label = \"Confirm Cases\")\n",
    "plt.plot(dgd2.Date,dgd2.TestsPerformed,zorder=1,color=\"red\")\n",
    "plt.plot(dgd2.Date,dgd2.TotalPositiveCases,zorder=1,color=\"blue\")"
   ]
  },
  {
   "cell_type": "markdown",
   "metadata": {},
   "source": [
    "## Confirmed Cases vs People Hospitalized"
   ]
  },
  {
   "cell_type": "code",
   "execution_count": null,
   "metadata": {
    "collapsed": true
   },
   "outputs": [],
   "source": [
    "plt.figure(figsize=(23,10))\n",
    "plt.bar(dgd2.Date, dgd2.TotalPositiveCases,label=\"Confirm Cases\")\n",
    "plt.bar(dgd2.Date, dgd2.TotalHospitalizedPatients,label=\"Hospitalized Patients\")\n",
    "plt.xlabel('Date')\n",
    "plt.ylabel(\"Count\")\n",
    "plt.legend(frameon=True, fontsize=12)\n",
    "plt.title('Confirmed Cases vs Hospitalised Cases',fontsize= 35)\n",
    "plt.show()\n",
    "\n",
    "f, ax = plt.subplots(figsize=(23,10))\n",
    "ax=sns.scatterplot(x=\"Date\", y=\"TotalHospitalizedPatients\", data=dgd2,\n",
    "             color=\"red\",label = \"Hospitalized Patients\")\n",
    "ax=sns.scatterplot(x=\"Date\", y=\"TotalPositiveCases\", data=dgd2,\n",
    "             color=\"blue\",label = \"Confirm Cases\")\n",
    "plt.plot(dgd2.Date,dgd2.TotalHospitalizedPatients,zorder=1,color=\"red\")\n",
    "plt.plot(dgd2.Date,dgd2.TotalPositiveCases,zorder=1,color=\"blue\")"
   ]
  },
  {
   "cell_type": "markdown",
   "metadata": {},
   "source": [
    "## Hospitalized vs Recovery and Death"
   ]
  },
  {
   "cell_type": "code",
   "execution_count": null,
   "metadata": {
    "collapsed": true
   },
   "outputs": [],
   "source": [
    "plt.figure(figsize=(23,10))\n",
    "plt.bar(dgd2.Date, dgd2.TotalHospitalizedPatients,label=\"Hospitalise Patients\")\n",
    "plt.bar(dgd2.Date, dgd2.Recovered,label=\"Recovery\")\n",
    "plt.bar(dgd2.Date, dgd2.Deaths,label=\"Death\")\n",
    "plt.xlabel('Date')\n",
    "plt.ylabel(\"Count\")\n",
    "plt.legend(frameon=True, fontsize=12)\n",
    "plt.title('Hospitalise vs Recovery vs Death',fontsize=30)\n",
    "plt.show()\n",
    "\n",
    "f, ax = plt.subplots(figsize=(23,10))\n",
    "ax=sns.scatterplot(x=\"Date\", y=\"TotalHospitalizedPatients\", data=dgd2,\n",
    "             color=\"black\",label = \"Hospitalise Patients\")\n",
    "ax=sns.scatterplot(x=\"Date\", y=\"Recovered\", data=dgd2,\n",
    "             color=\"red\",label = \"Recovery\")\n",
    "ax=sns.scatterplot(x=\"Date\", y=\"Deaths\", data=dgd2,\n",
    "             color=\"blue\",label = \"Death\")\n",
    "plt.plot(dgd2.Date,dgd2.TotalHospitalizedPatients,zorder=1,color=\"black\")\n",
    "plt.plot(dgd2.Date,dgd2.Recovered,zorder=1,color=\"red\")\n",
    "plt.plot(dgd2.Date,dgd2.Deaths,zorder=1,color=\"blue\")"
   ]
  },
  {
   "cell_type": "markdown",
   "metadata": {},
   "source": [
    "## Confirm vs Recovery vs Death"
   ]
  },
  {
   "cell_type": "code",
   "execution_count": null,
   "metadata": {
    "collapsed": true
   },
   "outputs": [],
   "source": [
    "plt.figure(figsize=(23,10))\n",
    "plt.bar(dgd2.Date, dgd2.TotalPositiveCases,label=\"Confirm\")\n",
    "plt.bar(dgd2.Date, dgd2.Recovered,label=\"Recovery\")\n",
    "plt.bar(dgd2.Date, dgd2.Deaths,label=\"Death\")\n",
    "plt.xlabel('Date')\n",
    "plt.ylabel(\"Count\")\n",
    "plt.legend(frameon=True, fontsize=12)\n",
    "plt.title('Confirm vs Recovery vs Death',fontsize=30)\n",
    "plt.show()\n",
    "\n",
    "f, ax = plt.subplots(figsize=(23,10))\n",
    "ax=sns.scatterplot(x=\"Date\", y=\"TotalPositiveCases\", data=dgd2,\n",
    "             color=\"black\",label = \"Confirm\")\n",
    "ax=sns.scatterplot(x=\"Date\", y=\"Recovered\", data=dgd2,\n",
    "             color=\"red\",label = \"Recovery\")\n",
    "ax=sns.scatterplot(x=\"Date\", y=\"Deaths\", data=dgd2,\n",
    "             color=\"blue\",label = \"Death\")\n",
    "plt.plot(dgd2.Date,dgd2.TotalPositiveCases,zorder=1,color=\"black\")\n",
    "plt.plot(dgd2.Date,dgd2.Recovered,zorder=1,color=\"red\")\n",
    "plt.plot(dgd2.Date,dgd2.Deaths,zorder=1,color=\"blue\")"
   ]
  },
  {
   "cell_type": "markdown",
   "metadata": {},
   "source": [
    "**This graph gives an overview of the current situation in Italy. There are now more than 12,000 confirmed cases. The numbers of deaths and recoveries are roughly equal. From the date the country confirmed its first case, the number has been increasing exponentially. On March 11, Italy became the second most infected country after China.**"
   ]
  },
  {
   "cell_type": "code",
   "execution_count": null,
   "metadata": {
    "collapsed": true
   },
   "outputs": [],
   "source": [
    "data_groupby_date1 = data.groupby(\"Date\")[['TotalPositiveCases', 'Deaths', 'Recovered','TestsPerformed','HospitalizedPatients','TotalHospitalizedPatients']].sum().reset_index()\n",
    "dgd1 = data_groupby_date1\n",
    "dgd1.head()"
   ]
  },
  {
   "cell_type": "markdown",
   "metadata": {},
   "source": [
    "## Prophet  Algorithm"
   ]
  },
  {
   "cell_type": "markdown",
   "metadata": {},
   "source": [
    "For Number of Test(Screening)"
   ]
  },
  {
   "cell_type": "code",
   "execution_count": null,
   "metadata": {
    "collapsed": true
   },
   "outputs": [],
   "source": [
    "pr_data_test = dgd1.loc[:,['Date','TestsPerformed']]\n",
    "pr_data_test.columns = ['ds','y']\n",
    "pr_data_test.head()"
   ]
  },
  {
   "cell_type": "markdown",
   "metadata": {},
   "source": [
    "## Modeling"
   ]
  },
  {
   "cell_type": "code",
   "execution_count": null,
   "metadata": {
    "collapsed": true
   },
   "outputs": [],
   "source": [
    "m = Prophet()\n",
    "m.fit(pr_data_test)\n",
    "future=m.make_future_dataframe(periods=365)\n",
    "forecast_test=m.predict(future)\n",
    "forecast_test"
   ]
  },
  {
   "cell_type": "markdown",
   "metadata": {},
   "source": [
    "## Predicting"
   ]
  },
  {
   "cell_type": "code",
   "execution_count": null,
   "metadata": {
    "collapsed": true
   },
   "outputs": [],
   "source": [
    "test = forecast_test.loc[:,['ds','trend']]\n",
    "test = test[test['trend']>0]\n",
    "test.head()\n",
    "test=test.head(45)\n",
    "test=test.tail(30)\n",
    "test.columns = ['Date','Screening']\n",
    "test.head()\n"
   ]
  },
  {
   "cell_type": "markdown",
   "metadata": {},
   "source": [
    "## Graphical Representation of Predicted Screening"
   ]
  },
  {
   "cell_type": "code",
   "execution_count": null,
   "metadata": {
    "collapsed": true
   },
   "outputs": [],
   "source": [
    "fig_test = plot_plotly(m, forecast_test)\n",
    "py.iplot(fig_test) \n",
    "\n",
    "fig_test = m.plot(forecast_test,xlabel='Date',ylabel='Scrrening Count')"
   ]
  },
  {
   "cell_type": "code",
   "execution_count": null,
   "metadata": {
    "collapsed": true
   },
   "outputs": [],
   "source": [
    "figure_test=m.plot_components(forecast_test)\n"
   ]
  },
  {
   "cell_type": "markdown",
   "metadata": {},
   "source": [
    "**The graph predicts the total number of screenings required to bring the condition of Italy under control. By March 2021, when there will be more than 1.4 million screenings, the situation will be under control. The graph is linear, as European governments are supposed to work accordingly.**"
   ]
  },
  {
   "cell_type": "markdown",
   "metadata": {},
   "source": [
    "# Confirmed Cases"
   ]
  },
  {
   "cell_type": "markdown",
   "metadata": {},
   "source": [
    "## Making Data Ready for Algorithm"
   ]
  },
  {
   "cell_type": "code",
   "execution_count": null,
   "metadata": {
    "collapsed": true
   },
   "outputs": [],
   "source": [
    "pr_data_cm = dgd1.loc[:,['Date','TotalPositiveCases']]\n",
    "pr_data_cm.columns = ['ds','y']\n",
    "pr_data_cm.head()"
   ]
  },
  {
   "cell_type": "markdown",
   "metadata": {},
   "source": [
    "## Modelling"
   ]
  },
  {
   "cell_type": "code",
   "execution_count": null,
   "metadata": {
    "collapsed": true
   },
   "outputs": [],
   "source": [
    "m=Prophet()\n",
    "m.fit(pr_data_cm)\n",
    "future=m.make_future_dataframe(periods=365)\n",
    "forecast_cm=m.predict(future)\n",
    "forecast_cm"
   ]
  },
  {
   "cell_type": "markdown",
   "metadata": {},
   "source": [
    "## Predicting"
   ]
  },
  {
   "cell_type": "code",
   "execution_count": null,
   "metadata": {
    "collapsed": true
   },
   "outputs": [],
   "source": [
    "cnfrm = forecast_cm.loc[:,['ds','trend']]\n",
    "cnfrm = cnfrm[cnfrm['trend']>0]\n",
    "cnfrm.head()\n",
    "cnfrm=cnfrm.head(42)\n",
    "cnfrm=cnfrm.tail(30)\n",
    "cnfrm.columns = ['Date','Confirm']\n",
    "cnfrm.head()"
   ]
  },
  {
   "cell_type": "markdown",
   "metadata": {},
   "source": [
    "## Graphical Representation of Predicted Confirmation"
   ]
  },
  {
   "cell_type": "code",
   "execution_count": null,
   "metadata": {
    "collapsed": true
   },
   "outputs": [],
   "source": [
    "fig_cm = plot_plotly(m, forecast_cm)\n",
    "py.iplot(fig_cm) \n",
    "\n",
    "fig_cm = m.plot(forecast_cm,xlabel='Date',ylabel='Confirmed Count')"
   ]
  },
  {
   "cell_type": "code",
   "execution_count": null,
   "metadata": {
    "collapsed": true
   },
   "outputs": [],
   "source": [
    "figure_cm=m.plot_components(forecast_cm)\n"
   ]
  },
  {
   "cell_type": "markdown",
   "metadata": {},
   "source": [
    "**Predicting the number of cases confirmed in Italy by February 2021. There will be more than 250,000 people who will be affected by the coronavirus.**\n"
   ]
  },
  {
   "cell_type": "markdown",
   "metadata": {},
   "source": [
    "# Recovery"
   ]
  },
  {
   "cell_type": "markdown",
   "metadata": {},
   "source": [
    "## Making Data Ready for the Algorithm"
   ]
  },
  {
   "cell_type": "code",
   "execution_count": null,
   "metadata": {
    "collapsed": true
   },
   "outputs": [],
   "source": [
    "pr_data_r = dgd1.loc[:,['Date','Recovered']]\n",
    "pr_data_r.columns = ['ds','y']\n",
    "pr_data_r.head()"
   ]
  },
  {
   "cell_type": "markdown",
   "metadata": {},
   "source": [
    "## Modelling"
   ]
  },
  {
   "cell_type": "code",
   "execution_count": null,
   "metadata": {
    "collapsed": true
   },
   "outputs": [],
   "source": [
    "m=Prophet()\n",
    "m.fit(pr_data_r)\n",
    "future=m.make_future_dataframe(periods=365)\n",
    "forecast_r=m.predict(future)\n",
    "forecast_r"
   ]
  },
  {
   "cell_type": "markdown",
   "metadata": {},
   "source": [
    "## Predicting"
   ]
  },
  {
   "cell_type": "code",
   "execution_count": null,
   "metadata": {
    "collapsed": true
   },
   "outputs": [],
   "source": [
    "rec = forecast_r.loc[:,['ds','trend']]\n",
    "rec = rec[rec['trend']>0]\n",
    "rec.head()\n",
    "rec=rec.head(42)\n",
    "rec=rec.tail(30)\n",
    "rec.columns = ['Date','Recovery']\n",
    "rec.head()"
   ]
  },
  {
   "cell_type": "markdown",
   "metadata": {},
   "source": [
    "## Graphical Representation of Predicted Recovery"
   ]
  },
  {
   "cell_type": "code",
   "execution_count": null,
   "metadata": {
    "collapsed": true
   },
   "outputs": [],
   "source": [
    "fig_r = plot_plotly(m, forecast_r)\n",
    "py.iplot(fig_r) \n",
    "\n",
    "fig_r = m.plot(forecast_r,xlabel='Date',ylabel='Recovery Count')"
   ]
  },
  {
   "cell_type": "code",
   "execution_count": null,
   "metadata": {
    "collapsed": true
   },
   "outputs": [],
   "source": [
    "figure_r=m.plot_components(forecast_r)\n"
   ]
  },
  {
   "cell_type": "markdown",
   "metadata": {},
   "source": [
    "# For Deaths"
   ]
  },
  {
   "cell_type": "markdown",
   "metadata": {},
   "source": [
    "## Making Data Ready for the Algorithm"
   ]
  },
  {
   "cell_type": "code",
   "execution_count": null,
   "metadata": {
    "collapsed": true
   },
   "outputs": [],
   "source": [
    "pr_data_d = dgd1.loc[:,['Date','Deaths']]\n",
    "pr_data_d.columns = ['ds','y']\n",
    "pr_data_d.head()"
   ]
  },
  {
   "cell_type": "markdown",
   "metadata": {},
   "source": [
    "## Modelling"
   ]
  },
  {
   "cell_type": "code",
   "execution_count": null,
   "metadata": {
    "collapsed": true
   },
   "outputs": [],
   "source": [
    "m=Prophet()\n",
    "m.fit(pr_data_d)\n",
    "future=m.make_future_dataframe(periods=365)\n",
    "forecast_d=m.predict(future)\n",
    "forecast_d"
   ]
  },
  {
   "cell_type": "markdown",
   "metadata": {},
   "source": [
    "## Predicting"
   ]
  },
  {
   "cell_type": "code",
   "execution_count": null,
   "metadata": {
    "collapsed": true
   },
   "outputs": [],
   "source": [
    "dth = forecast_d.loc[:,['ds','trend']]\n",
    "dth = dth[dth['trend']>0]\n",
    "dth=dth.head(42)\n",
    "dth=dth.tail(30)\n",
    "dth.columns = ['Date','Death']\n",
    "dth.head()\n"
   ]
  },
  {
   "cell_type": "markdown",
   "metadata": {},
   "source": [
    "## Graphical Representation of Predicted Death"
   ]
  },
  {
   "cell_type": "code",
   "execution_count": null,
   "metadata": {
    "collapsed": true
   },
   "outputs": [],
   "source": [
    "fig_d = plot_plotly(m, forecast_d)\n",
    "py.iplot(fig_d) \n",
    "\n",
    "fig_d = m.plot(forecast_d,xlabel='Date',ylabel='Deaths Count')"
   ]
  },
  {
   "cell_type": "code",
   "execution_count": null,
   "metadata": {
    "collapsed": true
   },
   "outputs": [],
   "source": [
    "figure_d=m.plot_components(forecast_d)\n"
   ]
  },
  {
   "cell_type": "markdown",
   "metadata": {},
   "source": [
    "**The current situation is not under control. According to current data on confirmed patients, 53% will recover, whereas 47% will die. But the prediction says there will approximately 25,000 people who will recover and around 14,000 people who will die by February 2021. The rest will be in isolation.**"
   ]
  },
  {
   "cell_type": "markdown",
   "metadata": {},
   "source": [
    "# What the Future Looks Like"
   ]
  },
  {
   "cell_type": "code",
   "execution_count": null,
   "metadata": {
    "collapsed": true
   },
   "outputs": [],
   "source": [
    "prediction = test\n",
    "prediction['Confirm'] = cnfrm.Confirm\n",
    "prediction['Recover'] = rec.Recovery\n",
    "prediction['Death'] = dth.Death"
   ]
  },
  {
   "cell_type": "code",
   "execution_count": null,
   "metadata": {
    "collapsed": true
   },
   "outputs": [],
   "source": [
    "prediction.head()"
   ]
  },
  {
   "cell_type": "markdown",
   "metadata": {},
   "source": [
    "## Future Ratios"
   ]
  },
  {
   "cell_type": "code",
   "execution_count": null,
   "metadata": {
    "collapsed": true
   },
   "outputs": [],
   "source": [
    "pps_pts = float(prediction.Confirm.sum()/prediction.Screening.sum())\n",
    "pd_pts = float(prediction.Death.sum()/prediction.Screening.sum())\n",
    "pr_pps = float(prediction.Recover.sum()/prediction.Confirm.sum())\n",
    "pd_pps = float(prediction.Death.sum()/prediction.Confirm.sum())"
   ]
  },
  {
   "cell_type": "code",
   "execution_count": null,
   "metadata": {
    "collapsed": true
   },
   "outputs": [],
   "source": [
    "print(\"The percentage of  Predicted Confirmation is \"+ str(pps_pts*100) )\n",
    "print(\"The percentage of Predicted Death is \"+ str(pd_pts*100) )\n",
    "print(\"The percentage of Predicted Death after confirmation is \"+ str(pd_pps*100) )\n",
    "print(\"The percentage of Predicted recovery after confirmation is \"+ str(pr_pps*100) )"
   ]
  },
  {
   "cell_type": "markdown",
   "metadata": {},
   "source": [
    "> ### Prevention\n",
    "To avoid infection, people should do the following things:\n",
    "*  Avoid contact with people who are sick.\n",
    "*  Avoid touching your eyes, nose, and mouth.\n",
    "*  Stay home when you are sick.\n",
    "*  Cover your cough or sneeze with a tissue, then throw the tissue in the trash.\n",
    "*  Clean and disinfect frequently touched objects and surfaces\n",
    "*  Wash your hands often with soap and water, especially after going to the bathroom; before eating; and after blowing your nose, coughing, or sneezing. If soap and water are not readily available, use an alcohol-based hand sanitizer."
   ]
  },
  {
   "cell_type": "code",
   "execution_count": null,
   "metadata": {
    "collapsed": true
   },
   "outputs": [],
   "source": []
  }
 ],
 "metadata": {
  "kernelspec": {
   "display_name": "Python 3",
   "language": "python",
   "name": "python3"
  },
  "language_info": {
   "codemirror_mode": {
    "name": "ipython",
    "version": 3
   },
   "file_extension": ".py",
   "mimetype": "text/x-python",
   "name": "python",
   "nbconvert_exporter": "python",
   "pygments_lexer": "ipython3",
   "version": "3.7.3"
  }
 },
 "nbformat": 4,
 "nbformat_minor": 4
}
